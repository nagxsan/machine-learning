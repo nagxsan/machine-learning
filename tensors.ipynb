{
  "nbformat": 4,
  "nbformat_minor": 0,
  "metadata": {
    "colab": {
      "provenance": [],
      "collapsed_sections": [
        "JdBCmMzP38hx",
        "ASugjRMB4aho"
      ],
      "authorship_tag": "ABX9TyPKeIIOQjfHlrAkooXYcOc0",
      "include_colab_link": true
    },
    "kernelspec": {
      "name": "python3",
      "display_name": "Python 3"
    },
    "language_info": {
      "name": "python"
    }
  },
  "cells": [
    {
      "cell_type": "markdown",
      "metadata": {
        "id": "view-in-github",
        "colab_type": "text"
      },
      "source": [
        "<a href=\"https://colab.research.google.com/github/nagxsan/machine-learning/blob/main/tensors.ipynb\" target=\"_parent\"><img src=\"https://colab.research.google.com/assets/colab-badge.svg\" alt=\"Open In Colab\"/></a>"
      ]
    },
    {
      "cell_type": "markdown",
      "source": [
        "# Tensors\n",
        "A data structure or a container to hold values of the same type. It can be of 0 (scalar), 1 (vector), 2 (matrix) or more dimensions.<br>\n",
        "- Use the `ndim` property of a tensor to find out the dimension of a tensor<br>\n",
        "- An `n-dimensional` tensor is a collection/vector of `(n-1)-dimensional` tensors.\n",
        "\n",
        "### Rank, Axes and Shape\n",
        "- Axis is the same as one orientation of the tensor. For example, a 3D tensor can be said to have 3 axes: a row axis, a column axis and a depth axis.\n",
        "- Rank = number of axes of the tensor.\n",
        "- Shape defines the number of elements that can be stored in each axis of the tensor. For instance, if in a 2D tensor you can store `2` vectors and each vector can store `4` elements then the shape of the tensor is `(2, 4)`"
      ],
      "metadata": {
        "id": "9B2RZgiv3Ory"
      }
    },
    {
      "cell_type": "code",
      "source": [
        "import numpy as np"
      ],
      "metadata": {
        "id": "K7g5Db8i3vc8"
      },
      "execution_count": 3,
      "outputs": []
    },
    {
      "cell_type": "markdown",
      "source": [
        "## Scalars (0-dimension tensors)\n",
        "These tensors store a single value"
      ],
      "metadata": {
        "id": "JdBCmMzP38hx"
      }
    },
    {
      "cell_type": "code",
      "source": [
        "scalar = np.array(4) # Create a 0-dimensioned np array\n",
        "print(f\"scalar: {scalar}\")\n",
        "print(f\"Dimension of scalar: {scalar.ndim}\")"
      ],
      "metadata": {
        "colab": {
          "base_uri": "https://localhost:8080/"
        },
        "id": "bwXuKno833bk",
        "outputId": "4321935f-ee5e-44f4-9966-8f4a2d8b6c1e"
      },
      "execution_count": 6,
      "outputs": [
        {
          "output_type": "stream",
          "name": "stdout",
          "text": [
            "numScalar: 4\n",
            "Dimension of numScalar: 0\n"
          ]
        }
      ]
    },
    {
      "cell_type": "markdown",
      "source": [
        "## Vectors (1-dimension tensors)\n",
        "These tensors store an array of values of same type.<br>\n",
        "Dimension of 1D tensor = 1<br>\n",
        "Dimension of vector (that is a 1D tensor) = len(vector)"
      ],
      "metadata": {
        "id": "ASugjRMB4aho"
      }
    },
    {
      "cell_type": "code",
      "source": [
        "vector = np.array([1, 2, 3]) # Create a 1-dimensioned np array\n",
        "print(f\"vector: {vector}\")\n",
        "print(f\"Dimension of vector: {vector.ndim}\")"
      ],
      "metadata": {
        "colab": {
          "base_uri": "https://localhost:8080/"
        },
        "id": "tDH0Es0a4Kac",
        "outputId": "4e1b24a6-7cea-4886-924d-3aa01005a171"
      },
      "execution_count": 7,
      "outputs": [
        {
          "output_type": "stream",
          "name": "stdout",
          "text": [
            "vector: [1 2 3]\n",
            "Dimension of vector: 1\n"
          ]
        }
      ]
    },
    {
      "cell_type": "markdown",
      "source": [
        "## Matrices (2-dimension tensors)\n",
        "Collection of vectors"
      ],
      "metadata": {
        "id": "H2xbk_bM5kA-"
      }
    },
    {
      "cell_type": "code",
      "source": [
        "matrix = np.array([[1,2,3], [4,5,6]])\n",
        "print(f\"Matrix: {matrix}\")\n",
        "print(f\"Dimension of matrix: {matrix.ndim}\")"
      ],
      "metadata": {
        "colab": {
          "base_uri": "https://localhost:8080/"
        },
        "id": "WT078nA85pf7",
        "outputId": "b943c89e-4d4e-4561-bd58-b0b415197d58"
      },
      "execution_count": 8,
      "outputs": [
        {
          "output_type": "stream",
          "name": "stdout",
          "text": [
            "Matrix: [[1 2 3]\n",
            " [4 5 6]]\n",
            "Dimension of matrix: 2\n"
          ]
        }
      ]
    }
  ]
}