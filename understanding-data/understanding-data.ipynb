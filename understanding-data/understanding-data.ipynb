{
 "cells": [
  {
   "cell_type": "code",
   "execution_count": 1,
   "id": "1e542c97",
   "metadata": {
    "_cell_guid": "b1076dfc-b9ad-4769-8c92-a6c4dae69d19",
    "_uuid": "8f2839f25d086af736a60e9eeb907d3b93b6e0e5",
    "execution": {
     "iopub.execute_input": "2024-11-04T07:11:43.419326Z",
     "iopub.status.busy": "2024-11-04T07:11:43.418834Z",
     "iopub.status.idle": "2024-11-04T07:11:44.338322Z",
     "shell.execute_reply": "2024-11-04T07:11:44.336802Z"
    },
    "papermill": {
     "duration": 0.936636,
     "end_time": "2024-11-04T07:11:44.341163",
     "exception": false,
     "start_time": "2024-11-04T07:11:43.404527",
     "status": "completed"
    },
    "tags": []
   },
   "outputs": [
    {
     "name": "stdout",
     "output_type": "stream",
     "text": [
      "/kaggle/input/titanic/train.csv\n",
      "/kaggle/input/titanic/test.csv\n",
      "/kaggle/input/titanic/gender_submission.csv\n"
     ]
    }
   ],
   "source": [
    "# This Python 3 environment comes with many helpful analytics libraries installed\n",
    "# It is defined by the kaggle/python Docker image: https://github.com/kaggle/docker-python\n",
    "# For example, here's several helpful packages to load\n",
    "\n",
    "import numpy as np # linear algebra\n",
    "import pandas as pd # data processing, CSV file I/O (e.g. pd.read_csv)\n",
    "\n",
    "# Input data files are available in the read-only \"../input/\" directory\n",
    "# For example, running this (by clicking run or pressing Shift+Enter) will list all files under the input directory\n",
    "\n",
    "import os\n",
    "for dirname, _, filenames in os.walk('/kaggle/input'):\n",
    "    for filename in filenames:\n",
    "        print(os.path.join(dirname, filename))\n",
    "\n",
    "# You can write up to 20GB to the current directory (/kaggle/working/) that gets preserved as output when you create a version using \"Save & Run All\" \n",
    "# You can also write temporary files to /kaggle/temp/, but they won't be saved outside of the current session"
   ]
  },
  {
   "cell_type": "markdown",
   "id": "7a62f05a",
   "metadata": {
    "papermill": {
     "duration": 0.01032,
     "end_time": "2024-11-04T07:11:44.363477",
     "exception": false,
     "start_time": "2024-11-04T07:11:44.353157",
     "status": "completed"
    },
    "tags": []
   },
   "source": [
    "# Basic Questions about the data\n",
    "Given any dataset, before proceeding with any training/model-building, we need to first understand the data, the trends that it shows and the important features that we need to use to solve the problem at hand."
   ]
  },
  {
   "cell_type": "code",
   "execution_count": 2,
   "id": "e115b952",
   "metadata": {
    "execution": {
     "iopub.execute_input": "2024-11-04T07:11:44.387515Z",
     "iopub.status.busy": "2024-11-04T07:11:44.386236Z",
     "iopub.status.idle": "2024-11-04T07:11:44.410056Z",
     "shell.execute_reply": "2024-11-04T07:11:44.408616Z"
    },
    "papermill": {
     "duration": 0.03902,
     "end_time": "2024-11-04T07:11:44.413102",
     "exception": false,
     "start_time": "2024-11-04T07:11:44.374082",
     "status": "completed"
    },
    "tags": []
   },
   "outputs": [],
   "source": [
    "df = pd.read_csv('/kaggle/input/titanic/train.csv')"
   ]
  },
  {
   "cell_type": "markdown",
   "id": "fce288ba",
   "metadata": {
    "papermill": {
     "duration": 0.010334,
     "end_time": "2024-11-04T07:11:44.434438",
     "exception": false,
     "start_time": "2024-11-04T07:11:44.424104",
     "status": "completed"
    },
    "tags": []
   },
   "source": [
    "## 1. How big is the data / What is the size (or shape) of the data"
   ]
  },
  {
   "cell_type": "code",
   "execution_count": 3,
   "id": "4f3f64d8",
   "metadata": {
    "execution": {
     "iopub.execute_input": "2024-11-04T07:11:44.459368Z",
     "iopub.status.busy": "2024-11-04T07:11:44.458901Z",
     "iopub.status.idle": "2024-11-04T07:11:44.468046Z",
     "shell.execute_reply": "2024-11-04T07:11:44.466861Z"
    },
    "papermill": {
     "duration": 0.024186,
     "end_time": "2024-11-04T07:11:44.470697",
     "exception": false,
     "start_time": "2024-11-04T07:11:44.446511",
     "status": "completed"
    },
    "tags": []
   },
   "outputs": [
    {
     "data": {
      "text/plain": [
       "(891, 12)"
      ]
     },
     "execution_count": 3,
     "metadata": {},
     "output_type": "execute_result"
    }
   ],
   "source": [
    "df.shape"
   ]
  },
  {
   "cell_type": "markdown",
   "id": "d359b052",
   "metadata": {
    "papermill": {
     "duration": 0.010318,
     "end_time": "2024-11-04T07:11:44.492499",
     "exception": false,
     "start_time": "2024-11-04T07:11:44.482181",
     "status": "completed"
    },
    "tags": []
   },
   "source": [
    "## 2. How does the data look like"
   ]
  },
  {
   "cell_type": "code",
   "execution_count": 4,
   "id": "434b608a",
   "metadata": {
    "execution": {
     "iopub.execute_input": "2024-11-04T07:11:44.516320Z",
     "iopub.status.busy": "2024-11-04T07:11:44.515137Z",
     "iopub.status.idle": "2024-11-04T07:11:44.542577Z",
     "shell.execute_reply": "2024-11-04T07:11:44.541187Z"
    },
    "papermill": {
     "duration": 0.042139,
     "end_time": "2024-11-04T07:11:44.545314",
     "exception": false,
     "start_time": "2024-11-04T07:11:44.503175",
     "status": "completed"
    },
    "tags": []
   },
   "outputs": [
    {
     "data": {
      "text/html": [
       "<div>\n",
       "<style scoped>\n",
       "    .dataframe tbody tr th:only-of-type {\n",
       "        vertical-align: middle;\n",
       "    }\n",
       "\n",
       "    .dataframe tbody tr th {\n",
       "        vertical-align: top;\n",
       "    }\n",
       "\n",
       "    .dataframe thead th {\n",
       "        text-align: right;\n",
       "    }\n",
       "</style>\n",
       "<table border=\"1\" class=\"dataframe\">\n",
       "  <thead>\n",
       "    <tr style=\"text-align: right;\">\n",
       "      <th></th>\n",
       "      <th>PassengerId</th>\n",
       "      <th>Survived</th>\n",
       "      <th>Pclass</th>\n",
       "      <th>Name</th>\n",
       "      <th>Sex</th>\n",
       "      <th>Age</th>\n",
       "      <th>SibSp</th>\n",
       "      <th>Parch</th>\n",
       "      <th>Ticket</th>\n",
       "      <th>Fare</th>\n",
       "      <th>Cabin</th>\n",
       "      <th>Embarked</th>\n",
       "    </tr>\n",
       "  </thead>\n",
       "  <tbody>\n",
       "    <tr>\n",
       "      <th>0</th>\n",
       "      <td>1</td>\n",
       "      <td>0</td>\n",
       "      <td>3</td>\n",
       "      <td>Braund, Mr. Owen Harris</td>\n",
       "      <td>male</td>\n",
       "      <td>22.0</td>\n",
       "      <td>1</td>\n",
       "      <td>0</td>\n",
       "      <td>A/5 21171</td>\n",
       "      <td>7.2500</td>\n",
       "      <td>NaN</td>\n",
       "      <td>S</td>\n",
       "    </tr>\n",
       "    <tr>\n",
       "      <th>1</th>\n",
       "      <td>2</td>\n",
       "      <td>1</td>\n",
       "      <td>1</td>\n",
       "      <td>Cumings, Mrs. John Bradley (Florence Briggs Th...</td>\n",
       "      <td>female</td>\n",
       "      <td>38.0</td>\n",
       "      <td>1</td>\n",
       "      <td>0</td>\n",
       "      <td>PC 17599</td>\n",
       "      <td>71.2833</td>\n",
       "      <td>C85</td>\n",
       "      <td>C</td>\n",
       "    </tr>\n",
       "    <tr>\n",
       "      <th>2</th>\n",
       "      <td>3</td>\n",
       "      <td>1</td>\n",
       "      <td>3</td>\n",
       "      <td>Heikkinen, Miss. Laina</td>\n",
       "      <td>female</td>\n",
       "      <td>26.0</td>\n",
       "      <td>0</td>\n",
       "      <td>0</td>\n",
       "      <td>STON/O2. 3101282</td>\n",
       "      <td>7.9250</td>\n",
       "      <td>NaN</td>\n",
       "      <td>S</td>\n",
       "    </tr>\n",
       "    <tr>\n",
       "      <th>3</th>\n",
       "      <td>4</td>\n",
       "      <td>1</td>\n",
       "      <td>1</td>\n",
       "      <td>Futrelle, Mrs. Jacques Heath (Lily May Peel)</td>\n",
       "      <td>female</td>\n",
       "      <td>35.0</td>\n",
       "      <td>1</td>\n",
       "      <td>0</td>\n",
       "      <td>113803</td>\n",
       "      <td>53.1000</td>\n",
       "      <td>C123</td>\n",
       "      <td>S</td>\n",
       "    </tr>\n",
       "    <tr>\n",
       "      <th>4</th>\n",
       "      <td>5</td>\n",
       "      <td>0</td>\n",
       "      <td>3</td>\n",
       "      <td>Allen, Mr. William Henry</td>\n",
       "      <td>male</td>\n",
       "      <td>35.0</td>\n",
       "      <td>0</td>\n",
       "      <td>0</td>\n",
       "      <td>373450</td>\n",
       "      <td>8.0500</td>\n",
       "      <td>NaN</td>\n",
       "      <td>S</td>\n",
       "    </tr>\n",
       "  </tbody>\n",
       "</table>\n",
       "</div>"
      ],
      "text/plain": [
       "   PassengerId  Survived  Pclass  \\\n",
       "0            1         0       3   \n",
       "1            2         1       1   \n",
       "2            3         1       3   \n",
       "3            4         1       1   \n",
       "4            5         0       3   \n",
       "\n",
       "                                                Name     Sex   Age  SibSp  \\\n",
       "0                            Braund, Mr. Owen Harris    male  22.0      1   \n",
       "1  Cumings, Mrs. John Bradley (Florence Briggs Th...  female  38.0      1   \n",
       "2                             Heikkinen, Miss. Laina  female  26.0      0   \n",
       "3       Futrelle, Mrs. Jacques Heath (Lily May Peel)  female  35.0      1   \n",
       "4                           Allen, Mr. William Henry    male  35.0      0   \n",
       "\n",
       "   Parch            Ticket     Fare Cabin Embarked  \n",
       "0      0         A/5 21171   7.2500   NaN        S  \n",
       "1      0          PC 17599  71.2833   C85        C  \n",
       "2      0  STON/O2. 3101282   7.9250   NaN        S  \n",
       "3      0            113803  53.1000  C123        S  \n",
       "4      0            373450   8.0500   NaN        S  "
      ]
     },
     "execution_count": 4,
     "metadata": {},
     "output_type": "execute_result"
    }
   ],
   "source": [
    "df.head()"
   ]
  },
  {
   "cell_type": "code",
   "execution_count": 5,
   "id": "46712967",
   "metadata": {
    "execution": {
     "iopub.execute_input": "2024-11-04T07:11:44.569259Z",
     "iopub.status.busy": "2024-11-04T07:11:44.568804Z",
     "iopub.status.idle": "2024-11-04T07:11:44.593821Z",
     "shell.execute_reply": "2024-11-04T07:11:44.592716Z"
    },
    "papermill": {
     "duration": 0.039775,
     "end_time": "2024-11-04T07:11:44.596218",
     "exception": false,
     "start_time": "2024-11-04T07:11:44.556443",
     "status": "completed"
    },
    "tags": []
   },
   "outputs": [
    {
     "data": {
      "text/html": [
       "<div>\n",
       "<style scoped>\n",
       "    .dataframe tbody tr th:only-of-type {\n",
       "        vertical-align: middle;\n",
       "    }\n",
       "\n",
       "    .dataframe tbody tr th {\n",
       "        vertical-align: top;\n",
       "    }\n",
       "\n",
       "    .dataframe thead th {\n",
       "        text-align: right;\n",
       "    }\n",
       "</style>\n",
       "<table border=\"1\" class=\"dataframe\">\n",
       "  <thead>\n",
       "    <tr style=\"text-align: right;\">\n",
       "      <th></th>\n",
       "      <th>PassengerId</th>\n",
       "      <th>Survived</th>\n",
       "      <th>Pclass</th>\n",
       "      <th>Name</th>\n",
       "      <th>Sex</th>\n",
       "      <th>Age</th>\n",
       "      <th>SibSp</th>\n",
       "      <th>Parch</th>\n",
       "      <th>Ticket</th>\n",
       "      <th>Fare</th>\n",
       "      <th>Cabin</th>\n",
       "      <th>Embarked</th>\n",
       "    </tr>\n",
       "  </thead>\n",
       "  <tbody>\n",
       "    <tr>\n",
       "      <th>886</th>\n",
       "      <td>887</td>\n",
       "      <td>0</td>\n",
       "      <td>2</td>\n",
       "      <td>Montvila, Rev. Juozas</td>\n",
       "      <td>male</td>\n",
       "      <td>27.0</td>\n",
       "      <td>0</td>\n",
       "      <td>0</td>\n",
       "      <td>211536</td>\n",
       "      <td>13.0000</td>\n",
       "      <td>NaN</td>\n",
       "      <td>S</td>\n",
       "    </tr>\n",
       "    <tr>\n",
       "      <th>352</th>\n",
       "      <td>353</td>\n",
       "      <td>0</td>\n",
       "      <td>3</td>\n",
       "      <td>Elias, Mr. Tannous</td>\n",
       "      <td>male</td>\n",
       "      <td>15.0</td>\n",
       "      <td>1</td>\n",
       "      <td>1</td>\n",
       "      <td>2695</td>\n",
       "      <td>7.2292</td>\n",
       "      <td>NaN</td>\n",
       "      <td>C</td>\n",
       "    </tr>\n",
       "    <tr>\n",
       "      <th>220</th>\n",
       "      <td>221</td>\n",
       "      <td>1</td>\n",
       "      <td>3</td>\n",
       "      <td>Sunderland, Mr. Victor Francis</td>\n",
       "      <td>male</td>\n",
       "      <td>16.0</td>\n",
       "      <td>0</td>\n",
       "      <td>0</td>\n",
       "      <td>SOTON/OQ 392089</td>\n",
       "      <td>8.0500</td>\n",
       "      <td>NaN</td>\n",
       "      <td>S</td>\n",
       "    </tr>\n",
       "    <tr>\n",
       "      <th>687</th>\n",
       "      <td>688</td>\n",
       "      <td>0</td>\n",
       "      <td>3</td>\n",
       "      <td>Dakic, Mr. Branko</td>\n",
       "      <td>male</td>\n",
       "      <td>19.0</td>\n",
       "      <td>0</td>\n",
       "      <td>0</td>\n",
       "      <td>349228</td>\n",
       "      <td>10.1708</td>\n",
       "      <td>NaN</td>\n",
       "      <td>S</td>\n",
       "    </tr>\n",
       "    <tr>\n",
       "      <th>563</th>\n",
       "      <td>564</td>\n",
       "      <td>0</td>\n",
       "      <td>3</td>\n",
       "      <td>Simmons, Mr. John</td>\n",
       "      <td>male</td>\n",
       "      <td>NaN</td>\n",
       "      <td>0</td>\n",
       "      <td>0</td>\n",
       "      <td>SOTON/OQ 392082</td>\n",
       "      <td>8.0500</td>\n",
       "      <td>NaN</td>\n",
       "      <td>S</td>\n",
       "    </tr>\n",
       "  </tbody>\n",
       "</table>\n",
       "</div>"
      ],
      "text/plain": [
       "     PassengerId  Survived  Pclass                            Name   Sex  \\\n",
       "886          887         0       2           Montvila, Rev. Juozas  male   \n",
       "352          353         0       3              Elias, Mr. Tannous  male   \n",
       "220          221         1       3  Sunderland, Mr. Victor Francis  male   \n",
       "687          688         0       3               Dakic, Mr. Branko  male   \n",
       "563          564         0       3               Simmons, Mr. John  male   \n",
       "\n",
       "      Age  SibSp  Parch           Ticket     Fare Cabin Embarked  \n",
       "886  27.0      0      0           211536  13.0000   NaN        S  \n",
       "352  15.0      1      1             2695   7.2292   NaN        C  \n",
       "220  16.0      0      0  SOTON/OQ 392089   8.0500   NaN        S  \n",
       "687  19.0      0      0           349228  10.1708   NaN        S  \n",
       "563   NaN      0      0  SOTON/OQ 392082   8.0500   NaN        S  "
      ]
     },
     "execution_count": 5,
     "metadata": {},
     "output_type": "execute_result"
    }
   ],
   "source": [
    "# df.head() gives the first 5 rows of the dataset, but sometimes this may not be a true representation of the dataset.\n",
    "df.sample(5) # gives 5 random rows from the dataset, which may be a better representation"
   ]
  },
  {
   "cell_type": "markdown",
   "id": "5eb12835",
   "metadata": {
    "papermill": {
     "duration": 0.011007,
     "end_time": "2024-11-04T07:11:44.618853",
     "exception": false,
     "start_time": "2024-11-04T07:11:44.607846",
     "status": "completed"
    },
    "tags": []
   },
   "source": [
    "## 3. What is the data type of the columns"
   ]
  },
  {
   "cell_type": "code",
   "execution_count": 6,
   "id": "f0df4ace",
   "metadata": {
    "execution": {
     "iopub.execute_input": "2024-11-04T07:11:44.644280Z",
     "iopub.status.busy": "2024-11-04T07:11:44.643091Z",
     "iopub.status.idle": "2024-11-04T07:11:44.669129Z",
     "shell.execute_reply": "2024-11-04T07:11:44.667702Z"
    },
    "papermill": {
     "duration": 0.041744,
     "end_time": "2024-11-04T07:11:44.671822",
     "exception": false,
     "start_time": "2024-11-04T07:11:44.630078",
     "status": "completed"
    },
    "tags": []
   },
   "outputs": [
    {
     "name": "stdout",
     "output_type": "stream",
     "text": [
      "<class 'pandas.core.frame.DataFrame'>\n",
      "RangeIndex: 891 entries, 0 to 890\n",
      "Data columns (total 12 columns):\n",
      " #   Column       Non-Null Count  Dtype  \n",
      "---  ------       --------------  -----  \n",
      " 0   PassengerId  891 non-null    int64  \n",
      " 1   Survived     891 non-null    int64  \n",
      " 2   Pclass       891 non-null    int64  \n",
      " 3   Name         891 non-null    object \n",
      " 4   Sex          891 non-null    object \n",
      " 5   Age          714 non-null    float64\n",
      " 6   SibSp        891 non-null    int64  \n",
      " 7   Parch        891 non-null    int64  \n",
      " 8   Ticket       891 non-null    object \n",
      " 9   Fare         891 non-null    float64\n",
      " 10  Cabin        204 non-null    object \n",
      " 11  Embarked     889 non-null    object \n",
      "dtypes: float64(2), int64(5), object(5)\n",
      "memory usage: 83.7+ KB\n"
     ]
    }
   ],
   "source": [
    "df.info()"
   ]
  },
  {
   "cell_type": "markdown",
   "id": "dfab02cb",
   "metadata": {
    "papermill": {
     "duration": 0.011107,
     "end_time": "2024-11-04T07:11:44.694578",
     "exception": false,
     "start_time": "2024-11-04T07:11:44.683471",
     "status": "completed"
    },
    "tags": []
   },
   "source": [
    "## 4. Are there any missing values"
   ]
  },
  {
   "cell_type": "code",
   "execution_count": 7,
   "id": "4f8cface",
   "metadata": {
    "execution": {
     "iopub.execute_input": "2024-11-04T07:11:44.719375Z",
     "iopub.status.busy": "2024-11-04T07:11:44.718897Z",
     "iopub.status.idle": "2024-11-04T07:11:44.729840Z",
     "shell.execute_reply": "2024-11-04T07:11:44.728616Z"
    },
    "papermill": {
     "duration": 0.026393,
     "end_time": "2024-11-04T07:11:44.732372",
     "exception": false,
     "start_time": "2024-11-04T07:11:44.705979",
     "status": "completed"
    },
    "tags": []
   },
   "outputs": [
    {
     "data": {
      "text/plain": [
       "PassengerId      0\n",
       "Survived         0\n",
       "Pclass           0\n",
       "Name             0\n",
       "Sex              0\n",
       "Age            177\n",
       "SibSp            0\n",
       "Parch            0\n",
       "Ticket           0\n",
       "Fare             0\n",
       "Cabin          687\n",
       "Embarked         2\n",
       "dtype: int64"
      ]
     },
     "execution_count": 7,
     "metadata": {},
     "output_type": "execute_result"
    }
   ],
   "source": [
    "df.isnull().sum() # gives the total number of missing values in every column"
   ]
  },
  {
   "cell_type": "markdown",
   "id": "071c1320",
   "metadata": {
    "papermill": {
     "duration": 0.011271,
     "end_time": "2024-11-04T07:11:44.755706",
     "exception": false,
     "start_time": "2024-11-04T07:11:44.744435",
     "status": "completed"
    },
    "tags": []
   },
   "source": [
    "## 5. How does the data look mathematically"
   ]
  },
  {
   "cell_type": "code",
   "execution_count": 8,
   "id": "7e7f29a8",
   "metadata": {
    "execution": {
     "iopub.execute_input": "2024-11-04T07:11:44.781027Z",
     "iopub.status.busy": "2024-11-04T07:11:44.780562Z",
     "iopub.status.idle": "2024-11-04T07:11:44.815666Z",
     "shell.execute_reply": "2024-11-04T07:11:44.814513Z"
    },
    "papermill": {
     "duration": 0.0508,
     "end_time": "2024-11-04T07:11:44.818308",
     "exception": false,
     "start_time": "2024-11-04T07:11:44.767508",
     "status": "completed"
    },
    "tags": []
   },
   "outputs": [
    {
     "data": {
      "text/html": [
       "<div>\n",
       "<style scoped>\n",
       "    .dataframe tbody tr th:only-of-type {\n",
       "        vertical-align: middle;\n",
       "    }\n",
       "\n",
       "    .dataframe tbody tr th {\n",
       "        vertical-align: top;\n",
       "    }\n",
       "\n",
       "    .dataframe thead th {\n",
       "        text-align: right;\n",
       "    }\n",
       "</style>\n",
       "<table border=\"1\" class=\"dataframe\">\n",
       "  <thead>\n",
       "    <tr style=\"text-align: right;\">\n",
       "      <th></th>\n",
       "      <th>PassengerId</th>\n",
       "      <th>Survived</th>\n",
       "      <th>Pclass</th>\n",
       "      <th>Age</th>\n",
       "      <th>SibSp</th>\n",
       "      <th>Parch</th>\n",
       "      <th>Fare</th>\n",
       "    </tr>\n",
       "  </thead>\n",
       "  <tbody>\n",
       "    <tr>\n",
       "      <th>count</th>\n",
       "      <td>891.000000</td>\n",
       "      <td>891.000000</td>\n",
       "      <td>891.000000</td>\n",
       "      <td>714.000000</td>\n",
       "      <td>891.000000</td>\n",
       "      <td>891.000000</td>\n",
       "      <td>891.000000</td>\n",
       "    </tr>\n",
       "    <tr>\n",
       "      <th>mean</th>\n",
       "      <td>446.000000</td>\n",
       "      <td>0.383838</td>\n",
       "      <td>2.308642</td>\n",
       "      <td>29.699118</td>\n",
       "      <td>0.523008</td>\n",
       "      <td>0.381594</td>\n",
       "      <td>32.204208</td>\n",
       "    </tr>\n",
       "    <tr>\n",
       "      <th>std</th>\n",
       "      <td>257.353842</td>\n",
       "      <td>0.486592</td>\n",
       "      <td>0.836071</td>\n",
       "      <td>14.526497</td>\n",
       "      <td>1.102743</td>\n",
       "      <td>0.806057</td>\n",
       "      <td>49.693429</td>\n",
       "    </tr>\n",
       "    <tr>\n",
       "      <th>min</th>\n",
       "      <td>1.000000</td>\n",
       "      <td>0.000000</td>\n",
       "      <td>1.000000</td>\n",
       "      <td>0.420000</td>\n",
       "      <td>0.000000</td>\n",
       "      <td>0.000000</td>\n",
       "      <td>0.000000</td>\n",
       "    </tr>\n",
       "    <tr>\n",
       "      <th>25%</th>\n",
       "      <td>223.500000</td>\n",
       "      <td>0.000000</td>\n",
       "      <td>2.000000</td>\n",
       "      <td>20.125000</td>\n",
       "      <td>0.000000</td>\n",
       "      <td>0.000000</td>\n",
       "      <td>7.910400</td>\n",
       "    </tr>\n",
       "    <tr>\n",
       "      <th>50%</th>\n",
       "      <td>446.000000</td>\n",
       "      <td>0.000000</td>\n",
       "      <td>3.000000</td>\n",
       "      <td>28.000000</td>\n",
       "      <td>0.000000</td>\n",
       "      <td>0.000000</td>\n",
       "      <td>14.454200</td>\n",
       "    </tr>\n",
       "    <tr>\n",
       "      <th>75%</th>\n",
       "      <td>668.500000</td>\n",
       "      <td>1.000000</td>\n",
       "      <td>3.000000</td>\n",
       "      <td>38.000000</td>\n",
       "      <td>1.000000</td>\n",
       "      <td>0.000000</td>\n",
       "      <td>31.000000</td>\n",
       "    </tr>\n",
       "    <tr>\n",
       "      <th>max</th>\n",
       "      <td>891.000000</td>\n",
       "      <td>1.000000</td>\n",
       "      <td>3.000000</td>\n",
       "      <td>80.000000</td>\n",
       "      <td>8.000000</td>\n",
       "      <td>6.000000</td>\n",
       "      <td>512.329200</td>\n",
       "    </tr>\n",
       "  </tbody>\n",
       "</table>\n",
       "</div>"
      ],
      "text/plain": [
       "       PassengerId    Survived      Pclass         Age       SibSp  \\\n",
       "count   891.000000  891.000000  891.000000  714.000000  891.000000   \n",
       "mean    446.000000    0.383838    2.308642   29.699118    0.523008   \n",
       "std     257.353842    0.486592    0.836071   14.526497    1.102743   \n",
       "min       1.000000    0.000000    1.000000    0.420000    0.000000   \n",
       "25%     223.500000    0.000000    2.000000   20.125000    0.000000   \n",
       "50%     446.000000    0.000000    3.000000   28.000000    0.000000   \n",
       "75%     668.500000    1.000000    3.000000   38.000000    1.000000   \n",
       "max     891.000000    1.000000    3.000000   80.000000    8.000000   \n",
       "\n",
       "            Parch        Fare  \n",
       "count  891.000000  891.000000  \n",
       "mean     0.381594   32.204208  \n",
       "std      0.806057   49.693429  \n",
       "min      0.000000    0.000000  \n",
       "25%      0.000000    7.910400  \n",
       "50%      0.000000   14.454200  \n",
       "75%      0.000000   31.000000  \n",
       "max      6.000000  512.329200  "
      ]
     },
     "execution_count": 8,
     "metadata": {},
     "output_type": "execute_result"
    }
   ],
   "source": [
    "df.describe() # gives a high level mathematical summary\n",
    "# However these insights are only applicable for numerical columns. As you can see, the statistics about Age give a fairly good idea about the distribution of age of the passengers. But PassengerId statistics do not convey anything since it is just a random unique identifier and not a numerical quantity."
   ]
  },
  {
   "cell_type": "markdown",
   "id": "796d9c0b",
   "metadata": {
    "papermill": {
     "duration": 0.011776,
     "end_time": "2024-11-04T07:11:44.842027",
     "exception": false,
     "start_time": "2024-11-04T07:11:44.830251",
     "status": "completed"
    },
    "tags": []
   },
   "source": [
    "## 6. Are there duplicate values"
   ]
  },
  {
   "cell_type": "code",
   "execution_count": 9,
   "id": "1b4909b4",
   "metadata": {
    "execution": {
     "iopub.execute_input": "2024-11-04T07:11:44.868845Z",
     "iopub.status.busy": "2024-11-04T07:11:44.868373Z",
     "iopub.status.idle": "2024-11-04T07:11:44.879030Z",
     "shell.execute_reply": "2024-11-04T07:11:44.877872Z"
    },
    "papermill": {
     "duration": 0.027623,
     "end_time": "2024-11-04T07:11:44.881598",
     "exception": false,
     "start_time": "2024-11-04T07:11:44.853975",
     "status": "completed"
    },
    "tags": []
   },
   "outputs": [
    {
     "data": {
      "text/plain": [
       "0"
      ]
     },
     "execution_count": 9,
     "metadata": {},
     "output_type": "execute_result"
    }
   ],
   "source": [
    "df.duplicated().sum() # gives a count of duplicated rows in the dataset\n",
    "# drop duplicate rows using the drop_duplicate() function"
   ]
  },
  {
   "cell_type": "markdown",
   "id": "b7a58c80",
   "metadata": {
    "papermill": {
     "duration": 0.012105,
     "end_time": "2024-11-04T07:11:44.906599",
     "exception": false,
     "start_time": "2024-11-04T07:11:44.894494",
     "status": "completed"
    },
    "tags": []
   },
   "source": [
    "## 7. What is the correlation among the columns"
   ]
  },
  {
   "cell_type": "code",
   "execution_count": 10,
   "id": "efcf9fd6",
   "metadata": {
    "execution": {
     "iopub.execute_input": "2024-11-04T07:11:44.933000Z",
     "iopub.status.busy": "2024-11-04T07:11:44.932495Z",
     "iopub.status.idle": "2024-11-04T07:11:44.952975Z",
     "shell.execute_reply": "2024-11-04T07:11:44.951748Z"
    },
    "papermill": {
     "duration": 0.036783,
     "end_time": "2024-11-04T07:11:44.955771",
     "exception": false,
     "start_time": "2024-11-04T07:11:44.918988",
     "status": "completed"
    },
    "tags": []
   },
   "outputs": [
    {
     "data": {
      "text/html": [
       "<div>\n",
       "<style scoped>\n",
       "    .dataframe tbody tr th:only-of-type {\n",
       "        vertical-align: middle;\n",
       "    }\n",
       "\n",
       "    .dataframe tbody tr th {\n",
       "        vertical-align: top;\n",
       "    }\n",
       "\n",
       "    .dataframe thead th {\n",
       "        text-align: right;\n",
       "    }\n",
       "</style>\n",
       "<table border=\"1\" class=\"dataframe\">\n",
       "  <thead>\n",
       "    <tr style=\"text-align: right;\">\n",
       "      <th></th>\n",
       "      <th>PassengerId</th>\n",
       "      <th>Survived</th>\n",
       "      <th>Pclass</th>\n",
       "      <th>Age</th>\n",
       "      <th>SibSp</th>\n",
       "      <th>Parch</th>\n",
       "      <th>Fare</th>\n",
       "    </tr>\n",
       "  </thead>\n",
       "  <tbody>\n",
       "    <tr>\n",
       "      <th>PassengerId</th>\n",
       "      <td>1.000000</td>\n",
       "      <td>-0.005007</td>\n",
       "      <td>-0.035144</td>\n",
       "      <td>0.036847</td>\n",
       "      <td>-0.057527</td>\n",
       "      <td>-0.001652</td>\n",
       "      <td>0.012658</td>\n",
       "    </tr>\n",
       "    <tr>\n",
       "      <th>Survived</th>\n",
       "      <td>-0.005007</td>\n",
       "      <td>1.000000</td>\n",
       "      <td>-0.338481</td>\n",
       "      <td>-0.077221</td>\n",
       "      <td>-0.035322</td>\n",
       "      <td>0.081629</td>\n",
       "      <td>0.257307</td>\n",
       "    </tr>\n",
       "    <tr>\n",
       "      <th>Pclass</th>\n",
       "      <td>-0.035144</td>\n",
       "      <td>-0.338481</td>\n",
       "      <td>1.000000</td>\n",
       "      <td>-0.369226</td>\n",
       "      <td>0.083081</td>\n",
       "      <td>0.018443</td>\n",
       "      <td>-0.549500</td>\n",
       "    </tr>\n",
       "    <tr>\n",
       "      <th>Age</th>\n",
       "      <td>0.036847</td>\n",
       "      <td>-0.077221</td>\n",
       "      <td>-0.369226</td>\n",
       "      <td>1.000000</td>\n",
       "      <td>-0.308247</td>\n",
       "      <td>-0.189119</td>\n",
       "      <td>0.096067</td>\n",
       "    </tr>\n",
       "    <tr>\n",
       "      <th>SibSp</th>\n",
       "      <td>-0.057527</td>\n",
       "      <td>-0.035322</td>\n",
       "      <td>0.083081</td>\n",
       "      <td>-0.308247</td>\n",
       "      <td>1.000000</td>\n",
       "      <td>0.414838</td>\n",
       "      <td>0.159651</td>\n",
       "    </tr>\n",
       "    <tr>\n",
       "      <th>Parch</th>\n",
       "      <td>-0.001652</td>\n",
       "      <td>0.081629</td>\n",
       "      <td>0.018443</td>\n",
       "      <td>-0.189119</td>\n",
       "      <td>0.414838</td>\n",
       "      <td>1.000000</td>\n",
       "      <td>0.216225</td>\n",
       "    </tr>\n",
       "    <tr>\n",
       "      <th>Fare</th>\n",
       "      <td>0.012658</td>\n",
       "      <td>0.257307</td>\n",
       "      <td>-0.549500</td>\n",
       "      <td>0.096067</td>\n",
       "      <td>0.159651</td>\n",
       "      <td>0.216225</td>\n",
       "      <td>1.000000</td>\n",
       "    </tr>\n",
       "  </tbody>\n",
       "</table>\n",
       "</div>"
      ],
      "text/plain": [
       "             PassengerId  Survived    Pclass       Age     SibSp     Parch  \\\n",
       "PassengerId     1.000000 -0.005007 -0.035144  0.036847 -0.057527 -0.001652   \n",
       "Survived       -0.005007  1.000000 -0.338481 -0.077221 -0.035322  0.081629   \n",
       "Pclass         -0.035144 -0.338481  1.000000 -0.369226  0.083081  0.018443   \n",
       "Age             0.036847 -0.077221 -0.369226  1.000000 -0.308247 -0.189119   \n",
       "SibSp          -0.057527 -0.035322  0.083081 -0.308247  1.000000  0.414838   \n",
       "Parch          -0.001652  0.081629  0.018443 -0.189119  0.414838  1.000000   \n",
       "Fare            0.012658  0.257307 -0.549500  0.096067  0.159651  0.216225   \n",
       "\n",
       "                 Fare  \n",
       "PassengerId  0.012658  \n",
       "Survived     0.257307  \n",
       "Pclass      -0.549500  \n",
       "Age          0.096067  \n",
       "SibSp        0.159651  \n",
       "Parch        0.216225  \n",
       "Fare         1.000000  "
      ]
     },
     "execution_count": 10,
     "metadata": {},
     "output_type": "execute_result"
    }
   ],
   "source": [
    "# useful for numerical columns\n",
    "df.corr(numeric_only=True)"
   ]
  },
  {
   "cell_type": "code",
   "execution_count": 11,
   "id": "5d903964",
   "metadata": {
    "execution": {
     "iopub.execute_input": "2024-11-04T07:11:44.982922Z",
     "iopub.status.busy": "2024-11-04T07:11:44.982459Z",
     "iopub.status.idle": "2024-11-04T07:11:44.993927Z",
     "shell.execute_reply": "2024-11-04T07:11:44.992706Z"
    },
    "papermill": {
     "duration": 0.028416,
     "end_time": "2024-11-04T07:11:44.996837",
     "exception": false,
     "start_time": "2024-11-04T07:11:44.968421",
     "status": "completed"
    },
    "tags": []
   },
   "outputs": [
    {
     "data": {
      "text/plain": [
       "PassengerId   -0.005007\n",
       "Survived       1.000000\n",
       "Pclass        -0.338481\n",
       "Age           -0.077221\n",
       "SibSp         -0.035322\n",
       "Parch          0.081629\n",
       "Fare           0.257307\n",
       "Name: Survived, dtype: float64"
      ]
     },
     "execution_count": 11,
     "metadata": {},
     "output_type": "execute_result"
    }
   ],
   "source": [
    "df.corr(numeric_only=True)['Survived'] # gives correlation of Survived column with other columns"
   ]
  },
  {
   "cell_type": "markdown",
   "id": "3e6a1fd6",
   "metadata": {
    "papermill": {
     "duration": 0.012689,
     "end_time": "2024-11-04T07:11:45.023738",
     "exception": false,
     "start_time": "2024-11-04T07:11:45.011049",
     "status": "completed"
    },
    "tags": []
   },
   "source": [
    "# EDA - Univariate Analysis\n",
    "Uni - single, Variate - variable\\\n",
    "Analysis of a single variable is called univariate analysis. \\\n",
    "Data is generally of two major types: Numerical and Categorical. Numerical data would entail values that would span numerical values. Categorical data would have values that will be chosen from a fixed set of domain. \\\n",
    "Numerical: height, age \\\n",
    "Categorical: country, can_vote"
   ]
  },
  {
   "cell_type": "code",
   "execution_count": 12,
   "id": "46b5033a",
   "metadata": {
    "execution": {
     "iopub.execute_input": "2024-11-04T07:11:45.050806Z",
     "iopub.status.busy": "2024-11-04T07:11:45.050277Z",
     "iopub.status.idle": "2024-11-04T07:11:45.068759Z",
     "shell.execute_reply": "2024-11-04T07:11:45.067659Z"
    },
    "papermill": {
     "duration": 0.034982,
     "end_time": "2024-11-04T07:11:45.071280",
     "exception": false,
     "start_time": "2024-11-04T07:11:45.036298",
     "status": "completed"
    },
    "tags": []
   },
   "outputs": [
    {
     "data": {
      "text/html": [
       "<div>\n",
       "<style scoped>\n",
       "    .dataframe tbody tr th:only-of-type {\n",
       "        vertical-align: middle;\n",
       "    }\n",
       "\n",
       "    .dataframe tbody tr th {\n",
       "        vertical-align: top;\n",
       "    }\n",
       "\n",
       "    .dataframe thead th {\n",
       "        text-align: right;\n",
       "    }\n",
       "</style>\n",
       "<table border=\"1\" class=\"dataframe\">\n",
       "  <thead>\n",
       "    <tr style=\"text-align: right;\">\n",
       "      <th></th>\n",
       "      <th>PassengerId</th>\n",
       "      <th>Survived</th>\n",
       "      <th>Pclass</th>\n",
       "      <th>Name</th>\n",
       "      <th>Sex</th>\n",
       "      <th>Age</th>\n",
       "      <th>SibSp</th>\n",
       "      <th>Parch</th>\n",
       "      <th>Ticket</th>\n",
       "      <th>Fare</th>\n",
       "      <th>Cabin</th>\n",
       "      <th>Embarked</th>\n",
       "    </tr>\n",
       "  </thead>\n",
       "  <tbody>\n",
       "    <tr>\n",
       "      <th>736</th>\n",
       "      <td>737</td>\n",
       "      <td>0</td>\n",
       "      <td>3</td>\n",
       "      <td>Ford, Mrs. Edward (Margaret Ann Watson)</td>\n",
       "      <td>female</td>\n",
       "      <td>48.0</td>\n",
       "      <td>1</td>\n",
       "      <td>3</td>\n",
       "      <td>W./C. 6608</td>\n",
       "      <td>34.3750</td>\n",
       "      <td>NaN</td>\n",
       "      <td>S</td>\n",
       "    </tr>\n",
       "    <tr>\n",
       "      <th>705</th>\n",
       "      <td>706</td>\n",
       "      <td>0</td>\n",
       "      <td>2</td>\n",
       "      <td>Morley, Mr. Henry Samuel (\"Mr Henry Marshall\")</td>\n",
       "      <td>male</td>\n",
       "      <td>39.0</td>\n",
       "      <td>0</td>\n",
       "      <td>0</td>\n",
       "      <td>250655</td>\n",
       "      <td>26.0000</td>\n",
       "      <td>NaN</td>\n",
       "      <td>S</td>\n",
       "    </tr>\n",
       "    <tr>\n",
       "      <th>623</th>\n",
       "      <td>624</td>\n",
       "      <td>0</td>\n",
       "      <td>3</td>\n",
       "      <td>Hansen, Mr. Henry Damsgaard</td>\n",
       "      <td>male</td>\n",
       "      <td>21.0</td>\n",
       "      <td>0</td>\n",
       "      <td>0</td>\n",
       "      <td>350029</td>\n",
       "      <td>7.8542</td>\n",
       "      <td>NaN</td>\n",
       "      <td>S</td>\n",
       "    </tr>\n",
       "    <tr>\n",
       "      <th>576</th>\n",
       "      <td>577</td>\n",
       "      <td>1</td>\n",
       "      <td>2</td>\n",
       "      <td>Garside, Miss. Ethel</td>\n",
       "      <td>female</td>\n",
       "      <td>34.0</td>\n",
       "      <td>0</td>\n",
       "      <td>0</td>\n",
       "      <td>243880</td>\n",
       "      <td>13.0000</td>\n",
       "      <td>NaN</td>\n",
       "      <td>S</td>\n",
       "    </tr>\n",
       "    <tr>\n",
       "      <th>617</th>\n",
       "      <td>618</td>\n",
       "      <td>0</td>\n",
       "      <td>3</td>\n",
       "      <td>Lobb, Mrs. William Arthur (Cordelia K Stanlick)</td>\n",
       "      <td>female</td>\n",
       "      <td>26.0</td>\n",
       "      <td>1</td>\n",
       "      <td>0</td>\n",
       "      <td>A/5. 3336</td>\n",
       "      <td>16.1000</td>\n",
       "      <td>NaN</td>\n",
       "      <td>S</td>\n",
       "    </tr>\n",
       "  </tbody>\n",
       "</table>\n",
       "</div>"
      ],
      "text/plain": [
       "     PassengerId  Survived  Pclass  \\\n",
       "736          737         0       3   \n",
       "705          706         0       2   \n",
       "623          624         0       3   \n",
       "576          577         1       2   \n",
       "617          618         0       3   \n",
       "\n",
       "                                                Name     Sex   Age  SibSp  \\\n",
       "736          Ford, Mrs. Edward (Margaret Ann Watson)  female  48.0      1   \n",
       "705   Morley, Mr. Henry Samuel (\"Mr Henry Marshall\")    male  39.0      0   \n",
       "623                      Hansen, Mr. Henry Damsgaard    male  21.0      0   \n",
       "576                             Garside, Miss. Ethel  female  34.0      0   \n",
       "617  Lobb, Mrs. William Arthur (Cordelia K Stanlick)  female  26.0      1   \n",
       "\n",
       "     Parch      Ticket     Fare Cabin Embarked  \n",
       "736      3  W./C. 6608  34.3750   NaN        S  \n",
       "705      0      250655  26.0000   NaN        S  \n",
       "623      0      350029   7.8542   NaN        S  \n",
       "576      0      243880  13.0000   NaN        S  \n",
       "617      0   A/5. 3336  16.1000   NaN        S  "
      ]
     },
     "execution_count": 12,
     "metadata": {},
     "output_type": "execute_result"
    }
   ],
   "source": [
    "df.sample(5)"
   ]
  },
  {
   "cell_type": "code",
   "execution_count": 13,
   "id": "f64261b4",
   "metadata": {
    "execution": {
     "iopub.execute_input": "2024-11-04T07:11:45.099119Z",
     "iopub.status.busy": "2024-11-04T07:11:45.098602Z",
     "iopub.status.idle": "2024-11-04T07:11:46.864189Z",
     "shell.execute_reply": "2024-11-04T07:11:46.862587Z"
    },
    "papermill": {
     "duration": 1.782869,
     "end_time": "2024-11-04T07:11:46.867144",
     "exception": false,
     "start_time": "2024-11-04T07:11:45.084275",
     "status": "completed"
    },
    "tags": []
   },
   "outputs": [],
   "source": [
    "import seaborn as sns\n",
    "import matplotlib.pyplot as plt"
   ]
  },
  {
   "cell_type": "markdown",
   "id": "4d1e4445",
   "metadata": {
    "papermill": {
     "duration": 0.012613,
     "end_time": "2024-11-04T07:11:46.894552",
     "exception": false,
     "start_time": "2024-11-04T07:11:46.881939",
     "status": "completed"
    },
    "tags": []
   },
   "source": [
    "## Categorical Data"
   ]
  },
  {
   "cell_type": "markdown",
   "id": "52fe3e0d",
   "metadata": {
    "papermill": {
     "duration": 0.012315,
     "end_time": "2024-11-04T07:11:46.920252",
     "exception": false,
     "start_time": "2024-11-04T07:11:46.907937",
     "status": "completed"
    },
    "tags": []
   },
   "source": [
    "First we make a note of what columns are categorical data:\n",
    "- Survived\n",
    "- Pclass\n",
    "- Sex\n",
    "- SibSp\n",
    "- Parch\n",
    "- Embarked"
   ]
  },
  {
   "cell_type": "markdown",
   "id": "c2fe0048",
   "metadata": {
    "papermill": {
     "duration": 0.013034,
     "end_time": "2024-11-04T07:11:46.946098",
     "exception": false,
     "start_time": "2024-11-04T07:11:46.933064",
     "status": "completed"
    },
    "tags": []
   },
   "source": [
    "### a. Countplot\n",
    "Used to plot a count of all the values for a categorical column"
   ]
  },
  {
   "cell_type": "code",
   "execution_count": 14,
   "id": "2171f25d",
   "metadata": {
    "execution": {
     "iopub.execute_input": "2024-11-04T07:11:46.974514Z",
     "iopub.status.busy": "2024-11-04T07:11:46.973933Z",
     "iopub.status.idle": "2024-11-04T07:11:47.243087Z",
     "shell.execute_reply": "2024-11-04T07:11:47.241815Z"
    },
    "papermill": {
     "duration": 0.286449,
     "end_time": "2024-11-04T07:11:47.245721",
     "exception": false,
     "start_time": "2024-11-04T07:11:46.959272",
     "status": "completed"
    },
    "tags": []
   },
   "outputs": [
    {
     "data": {
      "text/plain": [
       "<Axes: xlabel='Survived', ylabel='count'>"
      ]
     },
     "execution_count": 14,
     "metadata": {},
     "output_type": "execute_result"
    },
    {
     "data": {
      "image/png": "[encoded data removed]",
      "text/plain": [
       "<Figure size 640x480 with 1 Axes>"
      ]
     },
     "metadata": {},
     "output_type": "display_data"
    }
   ],
   "source": [
    "sns.countplot(df, x='Survived')\n",
    "# sns.countplot(df, x='Pclass', hue='Survived') gives a plot of Pclass count along with the information that for each Pclass value, how many survived."
   ]
  },
  {
   "cell_type": "markdown",
   "id": "0c920f7d",
   "metadata": {
    "papermill": {
     "duration": 0.013155,
     "end_time": "2024-11-04T07:11:47.272314",
     "exception": false,
     "start_time": "2024-11-04T07:11:47.259159",
     "status": "completed"
    },
    "tags": []
   },
   "source": [
    "### b. Piechart"
   ]
  },
  {
   "cell_type": "code",
   "execution_count": 15,
   "id": "060372d3",
   "metadata": {
    "execution": {
     "iopub.execute_input": "2024-11-04T07:11:47.300908Z",
     "iopub.status.busy": "2024-11-04T07:11:47.300462Z",
     "iopub.status.idle": "2024-11-04T07:11:47.473295Z",
     "shell.execute_reply": "2024-11-04T07:11:47.471726Z"
    },
    "papermill": {
     "duration": 0.191792,
     "end_time": "2024-11-04T07:11:47.477543",
     "exception": false,
     "start_time": "2024-11-04T07:11:47.285751",
     "status": "completed"
    },
    "tags": []
   },
   "outputs": [
    {
     "data": {
      "text/plain": [
       "<Axes: ylabel='count'>"
      ]
     },
     "execution_count": 15,
     "metadata": {},
     "output_type": "execute_result"
    },
    {
     "data": {
      "image/png": "[encoded data removed]",
      "text/plain": [
       "<Figure size 640x480 with 1 Axes>"
      ]
     },
     "metadata": {},
     "output_type": "display_data"
    }
   ],
   "source": [
    "df['Pclass'].value_counts().plot(kind='pie', autopct='%.2f')"
   ]
  },
  {
   "cell_type": "markdown",
   "id": "53276907",
   "metadata": {
    "papermill": {
     "duration": 0.027614,
     "end_time": "2024-11-04T07:11:47.533677",
     "exception": false,
     "start_time": "2024-11-04T07:11:47.506063",
     "status": "completed"
    },
    "tags": []
   },
   "source": [
    "## Numerical Data"
   ]
  },
  {
   "cell_type": "code",
   "execution_count": 16,
   "id": "a129e625",
   "metadata": {
    "execution": {
     "iopub.execute_input": "2024-11-04T07:11:47.564818Z",
     "iopub.status.busy": "2024-11-04T07:11:47.564351Z",
     "iopub.status.idle": "2024-11-04T07:11:47.569400Z",
     "shell.execute_reply": "2024-11-04T07:11:47.568235Z"
    },
    "papermill": {
     "duration": 0.022633,
     "end_time": "2024-11-04T07:11:47.571922",
     "exception": false,
     "start_time": "2024-11-04T07:11:47.549289",
     "status": "completed"
    },
    "tags": []
   },
   "outputs": [],
   "source": [
    "# df.fillna({'Age': df['Age'].mean()}, inplace=True) to replace the null values with mean value"
   ]
  },
  {
   "cell_type": "markdown",
   "id": "24db9473",
   "metadata": {
    "papermill": {
     "duration": 0.013376,
     "end_time": "2024-11-04T07:11:47.599597",
     "exception": false,
     "start_time": "2024-11-04T07:11:47.586221",
     "status": "completed"
    },
    "tags": []
   },
   "source": [
    "### a. Histogram\n",
    "To view the distribution (or get a good idea about it) of a numerical data, a Histogram is a great tool. It creates equidistant bins among the total range of the data and displays a count of the values among the data that lie in each range. This helps us plot a rough distribution graph to gain an understanding of the type of numerical data handled."
   ]
  },
  {
   "cell_type": "code",
   "execution_count": 17,
   "id": "f539b0e4",
   "metadata": {
    "execution": {
     "iopub.execute_input": "2024-11-04T07:11:47.629103Z",
     "iopub.status.busy": "2024-11-04T07:11:47.628614Z",
     "iopub.status.idle": "2024-11-04T07:11:47.946308Z",
     "shell.execute_reply": "2024-11-04T07:11:47.945073Z"
    },
    "papermill": {
     "duration": 0.335348,
     "end_time": "2024-11-04T07:11:47.948836",
     "exception": false,
     "start_time": "2024-11-04T07:11:47.613488",
     "status": "completed"
    },
    "tags": []
   },
   "outputs": [
    {
     "data": {
      "text/plain": [
       "(array([ 54.,  46., 177., 169., 118.,  70.,  45.,  24.,   9.,   2.]),\n",
       " array([ 0.42 ,  8.378, 16.336, 24.294, 32.252, 40.21 , 48.168, 56.126,\n",
       "        64.084, 72.042, 80.   ]),\n",
       " <BarContainer object of 10 artists>)"
      ]
     },
     "execution_count": 17,
     "metadata": {},
     "output_type": "execute_result"
    },
    {
     "data": {
      "image/png": "[encoded data removed]",
      "text/plain": [
       "<Figure size 640x480 with 1 Axes>"
      ]
     },
     "metadata": {},
     "output_type": "display_data"
    }
   ],
   "source": [
    "plt.hist(df['Age'])"
   ]
  },
  {
   "cell_type": "markdown",
   "id": "a13a1232",
   "metadata": {
    "papermill": {
     "duration": 0.01402,
     "end_time": "2024-11-04T07:11:47.977257",
     "exception": false,
     "start_time": "2024-11-04T07:11:47.963237",
     "status": "completed"
    },
    "tags": []
   },
   "source": [
    "### b. Distplot\n",
    "An improvement on Histogram"
   ]
  },
  {
   "cell_type": "code",
   "execution_count": 18,
   "id": "aa42425d",
   "metadata": {
    "execution": {
     "iopub.execute_input": "2024-11-04T07:11:48.008368Z",
     "iopub.status.busy": "2024-11-04T07:11:48.007395Z",
     "iopub.status.idle": "2024-11-04T07:11:48.537187Z",
     "shell.execute_reply": "2024-11-04T07:11:48.536125Z"
    },
    "papermill": {
     "duration": 0.548513,
     "end_time": "2024-11-04T07:11:48.540377",
     "exception": false,
     "start_time": "2024-11-04T07:11:47.991864",
     "status": "completed"
    },
    "tags": []
   },
   "outputs": [
    {
     "name": "stderr",
     "output_type": "stream",
     "text": [
      "/opt/conda/lib/python3.10/site-packages/seaborn/_oldcore.py:1119: FutureWarning: use_inf_as_na option is deprecated and will be removed in a future version. Convert inf values to NaN before operating instead.\n",
      "  with pd.option_context('mode.use_inf_as_na', True):\n"
     ]
    },
    {
     "data": {
      "text/plain": [
       "<seaborn.axisgrid.FacetGrid at 0x793cdf61e8c0>"
      ]
     },
     "execution_count": 18,
     "metadata": {},
     "output_type": "execute_result"
    },
    {
     "data": {
      "image/png": "[encoded data removed]",
      "text/plain": [
       "<Figure size 500x500 with 1 Axes>"
      ]
     },
     "metadata": {},
     "output_type": "display_data"
    }
   ],
   "source": [
    "sns.displot(df, x='Age', kde=True)\n",
    "# sns.displot(df['Age'], kind='kde')"
   ]
  },
  {
   "cell_type": "markdown",
   "id": "da5e8e0d",
   "metadata": {
    "papermill": {
     "duration": 0.014739,
     "end_time": "2024-11-04T07:11:48.570541",
     "exception": false,
     "start_time": "2024-11-04T07:11:48.555802",
     "status": "completed"
    },
    "tags": []
   },
   "source": [
    "### c. Boxplot\n",
    "Gives the 5 number summary: quartile_min, 25th percentile, 50th percentile (median), 75th percentile, quartile_max \\\n",
    "Q1: 25th percentile \\\n",
    "Q3: 75th percentile \\\n",
    "IQR (Inter-Quartile Range): Q3-Q1 \\\n",
    "quartile_min: Q1-1.5\\*IQR \\\n",
    "quartile_max: Q3+1.5\\*IQR \\\n",
    "Outliers lie outside the quartile_min, quartile_max"
   ]
  },
  {
   "cell_type": "code",
   "execution_count": 19,
   "id": "19f648e7",
   "metadata": {
    "execution": {
     "iopub.execute_input": "2024-11-04T07:11:48.602723Z",
     "iopub.status.busy": "2024-11-04T07:11:48.602233Z",
     "iopub.status.idle": "2024-11-04T07:11:48.787985Z",
     "shell.execute_reply": "2024-11-04T07:11:48.786551Z"
    },
    "papermill": {
     "duration": 0.205138,
     "end_time": "2024-11-04T07:11:48.790683",
     "exception": false,
     "start_time": "2024-11-04T07:11:48.585545",
     "status": "completed"
    },
    "tags": []
   },
   "outputs": [
    {
     "data": {
      "text/plain": [
       "<Axes: xlabel='Age'>"
      ]
     },
     "execution_count": 19,
     "metadata": {},
     "output_type": "execute_result"
    },
    {
     "data": {
      "image/png": "[encoded data removed]",
      "text/plain": [
       "<Figure size 640x480 with 1 Axes>"
      ]
     },
     "metadata": {},
     "output_type": "display_data"
    }
   ],
   "source": [
    "sns.boxplot(df, x='Age')"
   ]
  },
  {
   "cell_type": "code",
   "execution_count": null,
   "id": "28130324",
   "metadata": {
    "papermill": {
     "duration": 0.015114,
     "end_time": "2024-11-04T07:11:48.821470",
     "exception": false,
     "start_time": "2024-11-04T07:11:48.806356",
     "status": "completed"
    },
    "tags": []
   },
   "outputs": [],
   "source": []
  }
 ],
 "metadata": {
  "kaggle": {
   "accelerator": "none",
   "dataSources": [
    {
     "databundleVersionId": 26502,
     "sourceId": 3136,
     "sourceType": "competition"
    }
   ],
   "dockerImageVersionId": 30786,
   "isGpuEnabled": false,
   "isInternetEnabled": true,
   "language": "python",
   "sourceType": "notebook"
  },
  "kernelspec": {
   "display_name": "Python 3",
   "language": "python",
   "name": "python3"
  },
  "language_info": {
   "codemirror_mode": {
    "name": "ipython",
    "version": 3
   },
   "file_extension": ".py",
   "mimetype": "text/x-python",
   "name": "python",
   "nbconvert_exporter": "python",
   "pygments_lexer": "ipython3",
   "version": "3.10.14"
  },
  "papermill": {
   "default_parameters": {},
   "duration": 9.183655,
   "end_time": "2024-11-04T07:11:49.565185",
   "environment_variables": {},
   "exception": null,
   "input_path": "__notebook__.ipynb",
   "output_path": "__notebook__.ipynb",
   "parameters": {},
   "start_time": "2024-11-04T07:11:40.381530",
   "version": "2.6.0"
  }
 },
 "nbformat": 4,
 "nbformat_minor": 5
}
